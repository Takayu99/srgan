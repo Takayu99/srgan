{
 "cells": [
  {
   "cell_type": "code",
   "execution_count": 3,
   "metadata": {},
   "outputs": [
    {
     "name": "stdout",
     "output_type": "stream",
     "text": [
      "[160 120]\n"
     ]
    }
   ],
   "source": [
    "import cv2\n",
    "import numpy as np\n",
    "import glob\n",
    "\n",
    "#読み取り先のフォルダ名\n",
    "files = glob.glob(\"test/*\")\n",
    "\n",
    "HR_size = np.array([640, 480])\n",
    "ratio = 4\n",
    "LR_size = HR_size // ratio\n",
    "\n",
    "\n",
    "counter = 0\n",
    "\n",
    "for f in files:\n",
    "    img = cv2.imread(f)\n",
    "    dst = cv2.resize(img, LR_size, interpolation = cv2.INTER_NEAREST)\n",
    "    cv2.imwrite(\"output/\" + str(counter) + \".png\", dst)\n",
    "    counter += 1"
   ]
  },
  {
   "cell_type": "code",
   "execution_count": null,
   "metadata": {},
   "outputs": [],
   "source": [
    "# 入力画像の読み込み\n",
    "img = cv2.imread()\n",
    "    \n",
    "# グレースケール変換\n",
    "gray = cv2.cvtColor(img, cv2.COLOR_BGR2GRAY)\n",
    "\n",
    "# 方法2(OpenCV)\n",
    "dst = cv2.resize(\n",
    "    gray, (gray.shape[1]*2, gray.shape[0]*2), interpolation=cv2.INTER_LINEAR)\n",
    "\n",
    "# 結果を出力\n",
    "cv2.imwrite(\"C:/github/sample/python/opencv/resize/bilinear2.png\", dst)"
   ]
  },
  {
   "cell_type": "code",
   "execution_count": 4,
   "metadata": {},
   "outputs": [
    {
     "data": {
      "text/plain": [
       "True"
      ]
     },
     "execution_count": 4,
     "metadata": {},
     "output_type": "execute_result"
    }
   ],
   "source": [
    "import cv2\n",
    "import numpy as np\n",
    "import glob\n",
    "files = glob.glob(\"test/*\")\n",
    "img = cv2.imread(files[0])\n",
    "dst = cv2.resize(img, (384, 288), interpolation = cv2.INTER_LINEAR)\n",
    "cv2.imwrite(\"output/resized.jpg\", dst)"
   ]
  },
  {
   "cell_type": "code",
   "execution_count": null,
   "metadata": {},
   "outputs": [],
   "source": []
  }
 ],
 "metadata": {
  "kernelspec": {
   "display_name": "Python 3",
   "language": "python",
   "name": "python3"
  },
  "language_info": {
   "codemirror_mode": {
    "name": "ipython",
    "version": 3
   },
   "file_extension": ".py",
   "mimetype": "text/x-python",
   "name": "python",
   "nbconvert_exporter": "python",
   "pygments_lexer": "ipython3",
   "version": "3.6.12"
  }
 },
 "nbformat": 4,
 "nbformat_minor": 4
}
