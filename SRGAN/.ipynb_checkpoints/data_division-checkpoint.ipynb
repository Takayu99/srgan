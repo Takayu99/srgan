{
 "cells": [
  {
   "cell_type": "code",
   "execution_count": 2,
   "metadata": {},
   "outputs": [],
   "source": [
    "\"\"\"\n",
    "raw_imagesフォルダ内の画像をtrainデータとtestデータに分けるプログラム\n",
    "\"\"\"\n",
    "\n",
    "import glob\n",
    "import os\n",
    "import shutil\n",
    "\n",
    "try:\n",
    "    os.mkdir(\"../../images/train\") #trainフォルダの作成\n",
    "    os.mkdir(\"../../images/test\") #testフォルダの作成\n",
    "except FileExistsError: #フォルダが既に存在するときは何もしない\n",
    "    pass\n",
    "\n",
    "images = glob.glob(\"../../images/resized_images/*\")\n",
    "counter = 0\n",
    "\n",
    "for image in images:\n",
    "    if counter % 100 == 0:\n",
    "        shutil.move(image, \n",
    "                    '../../images/test/image_' + str(counter) + \".png\")\n",
    "    else:\n",
    "        shutil.move(image, \n",
    "                    '../../images/train/image_' + str(counter) + \".png\")\n",
    "    counter += 1"
   ]
  },
  {
   "cell_type": "code",
   "execution_count": null,
   "metadata": {},
   "outputs": [],
   "source": []
  }
 ],
 "metadata": {
  "kernelspec": {
   "display_name": "Python 3",
   "language": "python",
   "name": "python3"
  },
  "language_info": {
   "codemirror_mode": {
    "name": "ipython",
    "version": 3
   },
   "file_extension": ".py",
   "mimetype": "text/x-python",
   "name": "python",
   "nbconvert_exporter": "python",
   "pygments_lexer": "ipython3",
   "version": "3.6.12"
  }
 },
 "nbformat": 4,
 "nbformat_minor": 4
}
