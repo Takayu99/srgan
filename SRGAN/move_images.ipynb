{
 "cells": [
  {
   "cell_type": "code",
   "execution_count": 2,
   "metadata": {},
   "outputs": [],
   "source": [
    "\"\"\"\n",
    "ダウンロードした画像をすべてraw_imagesフォルダ内に移動させるプログラム\n",
    "\"\"\"\n",
    "import glob\n",
    "import os\n",
    "import shutil\n",
    "\n",
    "counter = 0\n",
    "folders = glob.glob(\"../../images/downloads/*\")\n",
    "\n",
    "try:\n",
    "    os.mkdir(\"../../images/raw_images\")\n",
    "except FileExistsError:\n",
    "    pass\n",
    "\n",
    "\n",
    "for folder in folders:\n",
    "    paths = glob.glob(folder + \"/*\")\n",
    "    for path in paths:\n",
    "        shutil.move(path, \n",
    "                    '../../images/raw_images/image_' + str(counter) + \".png\")\n",
    "        counter += 1\n",
    "    "
   ]
  },
  {
   "cell_type": "code",
   "execution_count": null,
   "metadata": {},
   "outputs": [],
   "source": []
  },
  {
   "cell_type": "code",
   "execution_count": 6,
   "metadata": {},
   "outputs": [],
   "source": [
    "\n"
   ]
  },
  {
   "cell_type": "code",
   "execution_count": null,
   "metadata": {},
   "outputs": [],
   "source": []
  }
 ],
 "metadata": {
  "kernelspec": {
   "display_name": "Python 3",
   "language": "python",
   "name": "python3"
  },
  "language_info": {
   "codemirror_mode": {
    "name": "ipython",
    "version": 3
   },
   "file_extension": ".py",
   "mimetype": "text/x-python",
   "name": "python",
   "nbconvert_exporter": "python",
   "pygments_lexer": "ipython3",
   "version": "3.6.12"
  }
 },
 "nbformat": 4,
 "nbformat_minor": 4
}
