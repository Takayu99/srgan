{
 "cells": [
  {
   "cell_type": "code",
   "execution_count": 11,
   "metadata": {},
   "outputs": [
    {
     "ename": "PermissionError",
     "evalue": "[WinError 5] アクセスが拒否されました。: '../downloader/programs/downloads\\\\猫'",
     "output_type": "error",
     "traceback": [
      "\u001b[1;31m---------------------------------------------------------------------------\u001b[0m",
      "\u001b[1;31mPermissionError\u001b[0m                           Traceback (most recent call last)",
      "\u001b[1;32m<ipython-input-11-b54d1f75f001>\u001b[0m in \u001b[0;36m<module>\u001b[1;34m\u001b[0m\n\u001b[0;32m     21\u001b[0m         \u001b[0mcounter\u001b[0m \u001b[1;33m+=\u001b[0m \u001b[1;36m1\u001b[0m\u001b[1;33m\u001b[0m\u001b[1;33m\u001b[0m\u001b[0m\n\u001b[0;32m     22\u001b[0m \u001b[1;33m\u001b[0m\u001b[0m\n\u001b[1;32m---> 23\u001b[1;33m     \u001b[0mos\u001b[0m\u001b[1;33m.\u001b[0m\u001b[0mremove\u001b[0m\u001b[1;33m(\u001b[0m\u001b[0mfolder\u001b[0m\u001b[1;33m)\u001b[0m\u001b[1;33m\u001b[0m\u001b[1;33m\u001b[0m\u001b[0m\n\u001b[0m",
      "\u001b[1;31mPermissionError\u001b[0m: [WinError 5] アクセスが拒否されました。: '../downloader/programs/downloads\\\\猫'"
     ]
    }
   ],
   "source": [
    "\"\"\"\n",
    "ダウンロードした画像をすべてraw_imagesフォルダ内に移動させるプログラム\n",
    "\"\"\"\n",
    "import glob\n",
    "import os\n",
    "import shutil\n",
    "\n",
    "counter = 0\n",
    "folders = glob.glob(\"../../images/downloads/*\")\n",
    "\n",
    "try:\n",
    "    os.mkdir(\"../../images/raw_images\")\n",
    "except FileExistsError:\n",
    "    pass\n",
    "\n",
    "\n",
    "for folder in folders:\n",
    "    paths = glob.glob(folder + \"/*\")\n",
    "    for path in paths:\n",
    "        shutil.move(path, \n",
    "                    '../../images/raw_images/image_' + str(counter) + \".png\")\n",
    "        counter += 1\n",
    "    \n",
    "    os.remove(folder)"
   ]
  },
  {
   "cell_type": "code",
   "execution_count": null,
   "metadata": {},
   "outputs": [],
   "source": []
  },
  {
   "cell_type": "code",
   "execution_count": 6,
   "metadata": {},
   "outputs": [],
   "source": [
    "\n"
   ]
  },
  {
   "cell_type": "code",
   "execution_count": null,
   "metadata": {},
   "outputs": [],
   "source": []
  }
 ],
 "metadata": {
  "kernelspec": {
   "display_name": "Python 3",
   "language": "python",
   "name": "python3"
  },
  "language_info": {
   "codemirror_mode": {
    "name": "ipython",
    "version": 3
   },
   "file_extension": ".py",
   "mimetype": "text/x-python",
   "name": "python",
   "nbconvert_exporter": "python",
   "pygments_lexer": "ipython3",
   "version": "3.6.12"
  }
 },
 "nbformat": 4,
 "nbformat_minor": 4
}
